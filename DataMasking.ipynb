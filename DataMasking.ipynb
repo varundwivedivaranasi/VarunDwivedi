{
 "cells": [
  {
   "cell_type": "code",
   "execution_count": 0,
   "metadata": {
    "application/vnd.databricks.v1+cell": {
     "cellMetadata": {
      "byteLimit": 2048000,
      "rowLimit": 10000
     },
     "inputWidgets": {},
     "nuid": "a086376e-54a9-47e4-ae68-177e13800bd7",
     "showTitle": false,
     "tableResultSettingsMap": {},
     "title": ""
    }
   },
   "outputs": [],
   "source": [
    "from pyspark.sql import SparkSession\n",
    "from pyspark.sql.functions import col, regexp_replace, lit, when, concat\n",
    "\n",
    "spark = SparkSession.builder.appName(\"MaskSensitiveFields\").getOrCreate()\n",
    "\n",
    "# Sample data\n",
    "data = [\n",
    "    (\"John Doe\", \"123-45-6789\", \"4111111111111111\"),\n",
    "    (\"Jane Smith\", \"987-65-4321\", \"5500000000000004\"),\n",
    "    (\"Alice Brown\", None, \"340000000000009\"),\n",
    "    (\"Bob White\", \"111-22-3333\", None)\n",
    "]\n",
    "\n",
    "columns = [\"name\", \"ssn\", \"card_number\"]\n",
    "df = spark.createDataFrame(data, columns)"
   ]
  },
  {
   "cell_type": "code",
   "execution_count": 0,
   "metadata": {
    "application/vnd.databricks.v1+cell": {
     "cellMetadata": {
      "byteLimit": 2048000,
      "rowLimit": 10000
     },
     "inputWidgets": {},
     "nuid": "6d70a7c3-7e5f-4281-8a00-4bdc68be830f",
     "showTitle": false,
     "tableResultSettingsMap": {},
     "title": ""
    }
   },
   "outputs": [],
   "source": [
    "def mask_sensitive_fields(df, fields_to_mask):\n",
    "    for field in fields_to_mask:\n",
    "        if field == \"ssn\":\n",
    "            # Mask SSN: replace first 5 digits with asterisks\n",
    "            df = df.withColumn(field, regexp_replace(col(field), r\"\\d{3}-\\d{2}\", \"***-**\"))\n",
    "        elif field == \"card_number\":\n",
    "            # Mask card number: keep last 4 digits, mask rest\n",
    "            df = df.withColumn(field, when(\n",
    "                col(field).isNotNull(),\n",
    "                concat(lit(\"**** **** **** \"), col(field).substr(-4, 4))\n",
    "            ).otherwise(lit(None)))\n",
    "    return df"
   ]
  },
  {
   "cell_type": "code",
   "execution_count": 0,
   "metadata": {
    "application/vnd.databricks.v1+cell": {
     "cellMetadata": {
      "byteLimit": 2048000,
      "rowLimit": 10000
     },
     "inputWidgets": {},
     "nuid": "ecd43365-ed7f-49cb-b399-f863c89d8132",
     "showTitle": false,
     "tableResultSettingsMap": {},
     "title": ""
    }
   },
   "outputs": [],
   "source": [
    "fields_to_mask = [\"ssn\", \"card_number\"]\n",
    "masked_df = mask_sensitive_fields(df, fields_to_mask)\n",
    "masked_df.show(truncate=False)"
   ]
  }
 ],
 "metadata": {
  "application/vnd.databricks.v1+notebook": {
   "computePreferences": null,
   "dashboards": [],
   "environmentMetadata": {
    "base_environment": "",
    "environment_version": "2"
   },
   "inputWidgetPreferences": null,
   "language": "python",
   "notebookMetadata": {
    "pythonIndentUnit": 4
   },
   "notebookName": "DataMasking",
   "widgets": {}
  },
  "language_info": {
   "name": "python"
  }
 },
 "nbformat": 4,
 "nbformat_minor": 0
}
