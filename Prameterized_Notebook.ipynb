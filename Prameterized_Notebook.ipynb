{
 "cells": [
  {
   "cell_type": "code",
   "execution_count": 0,
   "metadata": {
    "application/vnd.databricks.v1+cell": {
     "cellMetadata": {
      "byteLimit": 2048000,
      "rowLimit": 10000
     },
     "inputWidgets": {},
     "nuid": "964697df-4f44-46de-aee3-f6f1d7822ebc",
     "showTitle": false,
     "tableResultSettingsMap": {},
     "title": ""
    }
   },
   "outputs": [],
   "source": [
    "# Define a text widget with a default value\n",
    "dbutils.widgets.text(\"table_name\", \"sales_data\", \"Enter Table Name\")\n",
    "\n",
    "# Retrieve the widget value\n",
    "table_name = dbutils.widgets.get(\"table_name\")\n",
    "print(f\"Processing table: {table_name}\")"
   ]
  },
  {
   "cell_type": "code",
   "execution_count": 0,
   "metadata": {
    "application/vnd.databricks.v1+cell": {
     "cellMetadata": {
      "byteLimit": 2048000,
      "rowLimit": 10000
     },
     "inputWidgets": {},
     "nuid": "8408d10c-efc9-4e37-a7df-7c4cd361bece",
     "showTitle": false,
     "tableResultSettingsMap": {},
     "title": ""
    }
   },
   "outputs": [],
   "source": [
    "dbutils.widgets.dropdown(\"region\", \"US\", [\"US\", \"EU\", \"APAC\"])\n",
    "region = dbutils.widgets.get(\"region\")\n",
    "params = dbutils.widgets.getAll()\n",
    "print(params)"
   ]
  },
  {
   "cell_type": "code",
   "execution_count": 0,
   "metadata": {
    "application/vnd.databricks.v1+cell": {
     "cellMetadata": {
      "byteLimit": 2048000,
      "rowLimit": 10000
     },
     "inputWidgets": {},
     "nuid": "c4aba086-4bea-41ac-bf54-388092e5c68c",
     "showTitle": false,
     "tableResultSettingsMap": {},
     "title": ""
    }
   },
   "outputs": [],
   "source": [
    "dbutils.widgets.text(\"table_name\", \"sales_data\", \"Enter Table Name\")\n",
    "dbutils.widgets.dropdown(\"region\", \"US\", [\"US\", \"EU\", \"APAC\"])"
   ]
  },
  {
   "cell_type": "code",
   "execution_count": 0,
   "metadata": {
    "application/vnd.databricks.v1+cell": {
     "cellMetadata": {
      "byteLimit": 2048000,
      "implicitDf": true,
      "rowLimit": 10000
     },
     "inputWidgets": {},
     "nuid": "090232ec-cb06-42ec-94ef-21b1ff78e6a4",
     "showTitle": false,
     "tableResultSettingsMap": {},
     "title": ""
    }
   },
   "outputs": [],
   "source": [
    "%sql\n",
    "SELECT * FROM IDENTIFIER(:table_name) WHERE region = :region"
   ]
  },
  {
   "cell_type": "code",
   "execution_count": 0,
   "metadata": {
    "application/vnd.databricks.v1+cell": {
     "cellMetadata": {
      "byteLimit": 2048000,
      "rowLimit": 10000
     },
     "inputWidgets": {},
     "nuid": "2f4da2b7-cb97-444a-b242-83350eb9db3a",
     "showTitle": false,
     "tableResultSettingsMap": {},
     "title": ""
    }
   },
   "outputs": [],
   "source": [
    "{\n",
    "  \"notebook_params\": {\n",
    "    \"table_name\": \"customer_data\",\n",
    "    \"region\": \"EU\"\n",
    "  }\n",
    "}\n",
    "\n",
    "table_name = dbutils.widgets.get(\"table_name\")\n",
    "region = dbutils.widgets.get(\"region\")\n",
    "print(table_name, region)"
   ]
  },
  {
   "cell_type": "code",
   "execution_count": 0,
   "metadata": {
    "application/vnd.databricks.v1+cell": {
     "cellMetadata": {
      "byteLimit": 2048000,
      "rowLimit": 10000
     },
     "inputWidgets": {},
     "nuid": "d7388a24-a015-453b-8741-dd22f732e0e6",
     "showTitle": false,
     "tableResultSettingsMap": {},
     "title": ""
    }
   },
   "outputs": [],
   "source": [
    "from azure.identity import DefaultAzureCredential\n",
    "from azure.keyvault.secrets import SecretClient\n",
    "\n",
    "# Replace with your vault URL\n",
    "key_vault_url = \"https://adfkeyvalult.vault.azure.net/\"\n",
    "credential = DefaultAzureCredential()\n",
    "client = SecretClient(vault_url=key_vault_url, credential=credential)\n",
    "\n",
    "secret = client.get_secret(\"mySecretName\")\n",
    "print(secret.value)"
   ]
  },
  {
   "cell_type": "code",
   "execution_count": 0,
   "metadata": {
    "application/vnd.databricks.v1+cell": {
     "cellMetadata": {
      "byteLimit": 2048000,
      "rowLimit": 10000
     },
     "inputWidgets": {},
     "nuid": "33d70e7e-0b1d-452e-8887-53dbdec124ba",
     "showTitle": false,
     "tableResultSettingsMap": {},
     "title": ""
    }
   },
   "outputs": [],
   "source": [
    "# Retrieve secret from a scope named 'myScope'\n",
    "secret_value = dbutils.secrets.get('myScope2','APIAuthKey')\n",
    "print(secret_value)"
   ]
  }
 ],
 "metadata": {
  "application/vnd.databricks.v1+notebook": {
   "computePreferences": null,
   "dashboards": [],
   "environmentMetadata": {
    "base_environment": "",
    "environment_version": "2"
   },
   "inputWidgetPreferences": null,
   "language": "python",
   "notebookMetadata": {
    "mostRecentlyExecutedCommandWithImplicitDF": {
     "commandId": 6382616577220296,
     "dataframes": [
      "_sqldf"
     ]
    },
    "pythonIndentUnit": 4
   },
   "notebookName": "Prameterized_Notebook",
   "widgets": {
    "region": {
     "currentValue": "US",
     "nuid": "84048409-7c05-4f66-81a4-f49be1ccee32",
     "typedWidgetInfo": {
      "autoCreated": false,
      "defaultValue": "US",
      "label": null,
      "name": "region",
      "options": {
       "widgetDisplayType": "Dropdown",
       "choices": [
        "US",
        "EU",
        "APAC"
       ],
       "fixedDomain": true,
       "multiselect": false
      },
      "parameterDataType": "String"
     },
     "widgetInfo": {
      "widgetType": "dropdown",
      "defaultValue": "US",
      "label": null,
      "name": "region",
      "options": {
       "widgetType": "dropdown",
       "autoCreated": null,
       "choices": [
        "US",
        "EU",
        "APAC"
       ]
      }
     }
    },
    "table_name": {
     "currentValue": "demand_forecast",
     "nuid": "1aaf5464-ddb8-4623-9549-8a4841157e57",
     "typedWidgetInfo": {
      "autoCreated": false,
      "defaultValue": "sales_data",
      "label": "Enter Table Name",
      "name": "table_name",
      "options": {
       "widgetDisplayType": "Text",
       "validationRegex": null
      },
      "parameterDataType": "String"
     },
     "widgetInfo": {
      "widgetType": "text",
      "defaultValue": "sales_data",
      "label": "Enter Table Name",
      "name": "table_name",
      "options": {
       "widgetType": "text",
       "autoCreated": null,
       "validationRegex": null
      }
     }
    }
   }
  },
  "language_info": {
   "name": "python"
  }
 },
 "nbformat": 4,
 "nbformat_minor": 0
}
