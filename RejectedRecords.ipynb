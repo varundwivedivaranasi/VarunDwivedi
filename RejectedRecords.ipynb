{
 "cells": [
  {
   "cell_type": "code",
   "execution_count": 0,
   "metadata": {
    "application/vnd.databricks.v1+cell": {
     "cellMetadata": {
      "byteLimit": 2048000,
      "rowLimit": 10000
     },
     "inputWidgets": {},
     "nuid": "ba7b2364-7cde-40d1-b590-3d9df48e0a7c",
     "showTitle": false,
     "tableResultSettingsMap": {},
     "title": ""
    }
   },
   "outputs": [],
   "source": [
    "from pyspark.sql.functions import col\n",
    "\n",
    "# Read CSV with schema + badRecordsPath\n",
    "schema = \"Year INT, Total_Demand INT, _corrupt_record STRING\"\n",
    "\n",
    "df = spark.read.format(\"csv\") \\\n",
    "    .schema(schema) \\\n",
    "    .option(\"enforceSchema\", True)\\\n",
    "    .option(\"header\", True) \\\n",
    "    .option(\"mode\", \"PERMISSIVE\") \\\n",
    "    .option(\"columnNameOfCorruptRecord\", \"_corrupt_record\") \\\n",
    "    .load(\"abfss://gold@rmpyru.dfs.core.windows.net/GoldData.csv\")\n",
    "display(df)\n",
    "\n",
    "# Separate clean and corrupt records\n",
    "\n",
    "clean_df = df.filter(col(\"_corrupt_record\").isNull()).drop(\"_corrupt_record\")\n",
    "bad_df = df.filter(col(\"_corrupt_record\").isNotNull())\n",
    "\n",
    "display(clean_df)\n",
    "display(bad_df)\n",
    "\n",
    "# Write clean data\n",
    "clean_df.write.mode(\"overwrite\").format(\"parquet\").save('abfss://gold@rmpyru.dfs.core.windows.net/cleanrecords')\n",
    "\n",
    "# Write bad records\n",
    "bad_df.write.mode(\"overwrite\").format(\"parquet\").save('abfss://gold@rmpyru.dfs.core.windows.net/quarantined_rows/')\n",
    "\n"
   ]
  },
  {
   "cell_type": "code",
   "execution_count": 0,
   "metadata": {
    "application/vnd.databricks.v1+cell": {
     "cellMetadata": {
      "byteLimit": 2048000,
      "implicitDf": true,
      "rowLimit": 10000
     },
     "inputWidgets": {},
     "nuid": "029ca5e6-f887-4598-8536-be5b397af5e5",
     "showTitle": false,
     "tableResultSettingsMap": {},
     "title": ""
    }
   },
   "outputs": [],
   "source": [
    "df = spark.read.format(\"parquet\") \\\n",
    "    .option(\"header\", True) \\\n",
    "    .load(\"abfss://gold@rmpyru.dfs.core.windows.net/quarantined_rows/\")\n",
    "display(df)"
   ]
  }
 ],
 "metadata": {
  "application/vnd.databricks.v1+notebook": {
   "computePreferences": null,
   "dashboards": [],
   "environmentMetadata": {
    "base_environment": "",
    "environment_version": "2"
   },
   "inputWidgetPreferences": null,
   "language": "python",
   "notebookMetadata": {
    "mostRecentlyExecutedCommandWithImplicitDF": {
     "commandId": -1,
     "dataframes": [
      "_sqldf"
     ]
    },
    "pythonIndentUnit": 4
   },
   "notebookName": "RejectedRecords",
   "widgets": {}
  },
  "language_info": {
   "name": "python"
  }
 },
 "nbformat": 4,
 "nbformat_minor": 0
}
