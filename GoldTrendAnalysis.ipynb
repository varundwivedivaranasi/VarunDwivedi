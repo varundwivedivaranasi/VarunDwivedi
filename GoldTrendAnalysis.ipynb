{
 "cells": [
  {
   "cell_type": "code",
   "execution_count": 0,
   "metadata": {
    "application/vnd.databricks.v1+cell": {
     "cellMetadata": {
      "byteLimit": 2048000,
      "rowLimit": 10000
     },
     "inputWidgets": {},
     "nuid": "571ffb56-271d-4692-98e0-217fe0eb4893",
     "showTitle": false,
     "tableResultSettingsMap": {},
     "title": ""
    }
   },
   "outputs": [],
   "source": [
    "from pyspark.sql.types import StructType, StructField, StringType, IntegerType, DoubleType\n",
    "from pyspark.sql.window import Window\n",
    "from pyspark.sql.functions import col, dense_rank, lag, round, regexp_replace\n",
    "\n",
    "schema = StructType([\n",
    "    StructField(\"Year\", StringType(), True),\n",
    "    StructField(\"Total_Demand\", StringType(), True)\n",
    "    # Add more fields as per your CSV structure\n",
    "])\n",
    "\n",
    "df = spark.read.format(\"csv\") \\\n",
    "    .option(\"header\", \"true\") \\\n",
    "    .schema(schema) \\\n",
    "    .load(\"abfss://gold@rmpyru.dfs.core.windows.net\")\n",
    "\n",
    "df_cleaned = df.dropDuplicates().orderBy(col(\"Year\").asc())\n",
    "\n",
    "# Create window spec to order by Year\n",
    "#windowSpec = Window.orderBy(\"Year\")\n",
    "window_spec = Window.partitionBy(\"Year\").orderBy(col(\"Year\").asc())\n",
    "df_with_lag = df_cleaned.withColumn(\"Previous_Demand\", lag(\"Total_Demand\").over(windowSpec))\n",
    "\n",
    "# Cast columns to DoubleType for arithmetic operations\n",
    "df_with_lag = df_with_lag.withColumn(\"Total_Demand\", regexp_replace(col(\"Total_Demand\"), \",\", \"\").cast(DoubleType()))\n",
    "df_with_lag.show()\n",
    "df_with_lag = df_with_lag.withColumn(\"Previous_Demand\", regexp_replace(col(\"Previous_Demand\"), \",\", \"\").cast(DoubleType()))\n",
    "df_with_lag.show()\n",
    "# Calculate YoY percentage change\n",
    "df_result = df_with_lag.withColumn(\n",
    "    \"Change_YoY_Percent\",\n",
    "    round(((col(\"Total_Demand\") - col(\"Previous_Demand\")) / col(\"Previous_Demand\")) * 100, 2)\n",
    ")\n",
    "\n",
    "# Save the final result as a table\n",
    "df_result.write.mode(\"overwrite\").saveAsTable(\"default.demand_forecast\")"
   ]
  },
  {
   "cell_type": "code",
   "execution_count": 0,
   "metadata": {
    "application/vnd.databricks.v1+cell": {
     "cellMetadata": {
      "byteLimit": 2048000,
      "implicitDf": true,
      "rowLimit": 10000
     },
     "inputWidgets": {},
     "nuid": "17ca3ad7-3fc2-48a5-9692-c9e74f544d8b",
     "showTitle": false,
     "tableResultSettingsMap": {},
     "title": ""
    }
   },
   "outputs": [],
   "source": [
    "%sql\n",
    "select * from default.demand_forecast"
   ]
  }
 ],
 "metadata": {
  "application/vnd.databricks.v1+notebook": {
   "computePreferences": null,
   "dashboards": [],
   "environmentMetadata": {
    "base_environment": "",
    "environment_version": "2"
   },
   "inputWidgetPreferences": null,
   "language": "python",
   "notebookMetadata": {
    "mostRecentlyExecutedCommandWithImplicitDF": {
     "commandId": 4651500178699398,
     "dataframes": [
      "_sqldf"
     ]
    },
    "pythonIndentUnit": 4
   },
   "notebookName": "GoldTrendAnalysis",
   "widgets": {}
  },
  "language_info": {
   "name": "python"
  }
 },
 "nbformat": 4,
 "nbformat_minor": 0
}
