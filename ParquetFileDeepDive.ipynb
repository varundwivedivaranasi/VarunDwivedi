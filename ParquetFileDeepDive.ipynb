{
 "cells": [
  {
   "cell_type": "code",
   "execution_count": 0,
   "metadata": {
    "application/vnd.databricks.v1+cell": {
     "cellMetadata": {
      "byteLimit": 2048000,
      "implicitDf": true,
      "rowLimit": 10000
     },
     "inputWidgets": {},
     "nuid": "cb557971-801c-4672-8bbd-bfa3868e7669",
     "showTitle": false,
     "tableResultSettingsMap": {},
     "title": ""
    }
   },
   "outputs": [],
   "source": [
    "%sql\n",
    "select * from parquet.`abfss://gold@rmpyru.dfs.core.windows.net/parquetdeepdive`"
   ]
  },
  {
   "cell_type": "code",
   "execution_count": 0,
   "metadata": {
    "application/vnd.databricks.v1+cell": {
     "cellMetadata": {
      "byteLimit": 2048000,
      "rowLimit": 10000
     },
     "inputWidgets": {},
     "nuid": "93a6744e-1909-4bc4-959f-f0d812c803da",
     "showTitle": false,
     "tableResultSettingsMap": {},
     "title": ""
    }
   },
   "outputs": [],
   "source": [
    "%pip install adlfs\n",
    "\n",
    "import pyarrow as pa\n",
    "import pyarrow.parquet as pq\n",
    "import adlfs\n",
    "\n",
    "# Create a filesystem object\n",
    "fs = adlfs.AzureBlobFileSystem(account_name='rmpyru', account_key='your_account_key')\n",
    "\n",
    "# Open the Parquet file\n",
    "with fs.open('gold/parquetdeepdive') as f:\n",
    "    parquet_file = pq.ParquetFile(f)\n",
    "    metadata = parquet_file.metadata\n",
    "    row_group = metadata.row_group(0)\n",
    "    column = row_group.column(0)\n",
    "    statistics = column.statistics\n",
    "\n",
    "# Display metadata\n",
    "display(metadata)\n",
    "display(row_group)\n",
    "display(column)\n",
    "display(statistics)"
   ]
  },
  {
   "cell_type": "code",
   "execution_count": 0,
   "metadata": {
    "application/vnd.databricks.v1+cell": {
     "cellMetadata": {},
     "inputWidgets": {},
     "nuid": "6223215a-ddfc-44cf-9c09-fe59506ce5ed",
     "showTitle": false,
     "tableResultSettingsMap": {},
     "title": ""
    }
   },
   "outputs": [],
   "source": [
    "import pyarrow as pa\n",
    "import pyarrow.parquet as pq\n",
    "parquet_file = pq.ParquetFile(r'C:\\Users\\varun\\Downloads\\part-r-00000-1a9822ba-b8fb-4d8e-844a-ea30d0801b9e.gz.parquet')\n",
    "parquet_file.metadata\n",
    "parquet_file.metadata.row_group(0) \n",
    "parquet_file.metadata.row_group(0).column(0)\n",
    "parquet_file.metadata.row_group(0).column(0).statistics\n",
    "\n",
    "#below command is for parquet-tools\n",
    "parquet-tools show  C:\\Users\\varun\\Downloads\\part-r-00000-1a9822ba-b8fb-4d8e-844a-ea30d0801b9e.gz.parquet\n",
    "parquet-tools inspect  C:\\Users\\varun\\Downloads\\part-r-00000-1a9822ba-b8fb-4d8e-844a-ea30d0801b9e.gz.parquet"
   ]
  }
 ],
 "metadata": {
  "application/vnd.databricks.v1+notebook": {
   "computePreferences": null,
   "dashboards": [],
   "environmentMetadata": {
    "base_environment": "",
    "environment_version": "2"
   },
   "inputWidgetPreferences": null,
   "language": "python",
   "notebookMetadata": {
    "mostRecentlyExecutedCommandWithImplicitDF": {
     "commandId": 5970708876331906,
     "dataframes": [
      "_sqldf"
     ]
    },
    "pythonIndentUnit": 4
   },
   "notebookName": "ParquetFileDeepDive",
   "widgets": {}
  },
  "language_info": {
   "name": "python"
  }
 },
 "nbformat": 4,
 "nbformat_minor": 0
}
