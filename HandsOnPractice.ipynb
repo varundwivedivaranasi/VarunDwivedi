{
 "cells": [
  {
   "cell_type": "code",
   "execution_count": 0,
   "metadata": {
    "application/vnd.databricks.v1+cell": {
     "cellMetadata": {
      "byteLimit": 2048000,
      "rowLimit": 10000
     },
     "inputWidgets": {},
     "nuid": "44e168ad-32a5-4d47-928b-1d7898fada55",
     "showTitle": false,
     "tableResultSettingsMap": {},
     "title": ""
    }
   },
   "outputs": [],
   "source": [
    "data = [\n",
    " (\"C001\", \"2024-01-01\"),\n",
    " (\"C001\", \"2024-01-04\"),\n",
    " (\"C001\", \"2024-01-06\"),\n",
    " (\"C002\", \"2024-01-03\"),\n",
    " (\"C002\", \"2024-01-05\"),\n",
    "]\n",
    "\n",
    "df = spark.createDataFrame(data, [\"customer_id\", \"billing_date\"])\n",
    "\n",
    "df.display()"
   ]
  },
  {
   "cell_type": "code",
   "execution_count": 0,
   "metadata": {
    "application/vnd.databricks.v1+cell": {
     "cellMetadata": {
      "byteLimit": 2048000,
      "rowLimit": 10000
     },
     "inputWidgets": {},
     "nuid": "2210bd44-f731-48ef-abaf-9a5f5a94ee8b",
     "showTitle": false,
     "tableResultSettingsMap": {},
     "title": ""
    }
   },
   "outputs": [],
   "source": [
    "from pyspark.sql.window import Window\n",
    "from pyspark.sql.functions import col, lag, datediff, date_add, date_sub"
   ]
  },
  {
   "cell_type": "code",
   "execution_count": 0,
   "metadata": {
    "application/vnd.databricks.v1+cell": {
     "cellMetadata": {
      "byteLimit": 2048000,
      "rowLimit": 10000
     },
     "inputWidgets": {},
     "nuid": "db7505a8-d369-407d-a9b7-5b9006a5ab92",
     "showTitle": false,
     "tableResultSettingsMap": {},
     "title": ""
    }
   },
   "outputs": [],
   "source": [
    "customer_window=Window.partitionBy(\"customer_id\").orderBy(\"billing_date\")\n",
    "\n",
    "prev_date_df=df.withColumn(\"prev_date\",lag(\"billing_date\",1).over(customer_window))\n",
    "\n",
    "prev_date_df.display()\n",
    "\n",
    "gap_df=prev_date_df.filter(datediff(col(\"billing_date\"),col(\"prev_date\"))>1)\n",
    "\n",
    "gap_df.display()\n",
    "\n",
    "result_df=gap_df.withColumn(\"missing_from\",date_add(col(\"prev_date\"),1)).withColumn(\"missing_to\",date_sub(col('billing_date'),1))\n",
    "\n",
    "result_df.display()"
   ]
  }
 ],
 "metadata": {
  "application/vnd.databricks.v1+notebook": {
   "computePreferences": null,
   "dashboards": [],
   "environmentMetadata": {
    "base_environment": "",
    "environment_version": "2"
   },
   "inputWidgetPreferences": null,
   "language": "python",
   "notebookMetadata": {
    "pythonIndentUnit": 4
   },
   "notebookName": "HandsOnPractice",
   "widgets": {}
  },
  "language_info": {
   "name": "python"
  }
 },
 "nbformat": 4,
 "nbformat_minor": 0
}
