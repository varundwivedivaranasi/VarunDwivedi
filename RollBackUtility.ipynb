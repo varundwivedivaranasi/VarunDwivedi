{
 "cells": [
  {
   "cell_type": "code",
   "execution_count": 0,
   "metadata": {
    "application/vnd.databricks.v1+cell": {
     "cellMetadata": {
      "byteLimit": 2048000,
      "rowLimit": 10000
     },
     "inputWidgets": {},
     "nuid": "0700db19-8a07-4068-be88-3a86222634d7",
     "showTitle": false,
     "tableResultSettingsMap": {},
     "title": ""
    }
   },
   "outputs": [],
   "source": [
    "from pyspark.sql.functions import *\n",
    "from pyspark.sql.types import *"
   ]
  },
  {
   "cell_type": "code",
   "execution_count": 0,
   "metadata": {
    "application/vnd.databricks.v1+cell": {
     "cellMetadata": {},
     "inputWidgets": {},
     "nuid": "8ee3c3fd-c3b1-42f4-bd79-3c3626e38c11",
     "showTitle": false,
     "tableResultSettingsMap": {},
     "title": ""
    }
   },
   "outputs": [],
   "source": [
    "from pyspark.sql.types import StructType, StructField, StringType, LongType, TimestampType\n",
    "\n",
    "metadata_schema = StructType([\n",
    "    StructField(\"batch_id\", StringType(), True),\n",
    "    StructField(\"timestamp\", TimestampType(), True),\n",
    "    StructField(\"source_path\", StringType(), True),\n",
    "    StructField(\"record_count\", LongType(), True),\n",
    "    StructField(\"delta_table_version\", LongType(), True),\n",
    "    StructField(\"status\", StringType(), True),\n",
    "    StructField(\"rollback_flag\", StringType(), True)  # 'Y' or 'N'\n",
    "])"
   ]
  },
  {
   "cell_type": "code",
   "execution_count": 0,
   "metadata": {
    "application/vnd.databricks.v1+cell": {
     "cellMetadata": {
      "byteLimit": 2048000,
      "rowLimit": 10000
     },
     "inputWidgets": {},
     "nuid": "cf3dfaf1-113e-43c3-95d8-9476a2bf8d28",
     "showTitle": false,
     "tableResultSettingsMap": {},
     "title": ""
    }
   },
   "outputs": [],
   "source": [
    "json = 'abfss://gold@rmpyru.dfs.core.windows.net'\n",
    "df_zone = spark.read.format('json')\\\n",
    "                .option('inferSchema',True)\\\n",
    "                .option('multiLine',True)\\\n",
    "                .option('header',True)\\\n",
    "                .load(f'{json}/resturant_json_data.json')\n",
    "df_zone.display()                "
   ]
  },
  {
   "cell_type": "code",
   "execution_count": 0,
   "metadata": {
    "application/vnd.databricks.v1+cell": {
     "cellMetadata": {},
     "inputWidgets": {},
     "nuid": "12dd2922-5170-48fe-ad37-7ee9623dd3b5",
     "showTitle": false,
     "tableResultSettingsMap": {},
     "title": ""
    }
   },
   "outputs": [],
   "source": [
    "import uuid\n",
    "from datetime import datetime\n",
    "\n",
    "batch_id = str(uuid.uuid4())\n",
    "timestamp = datetime.now()\n",
    "source_path = \"abfss://gold@rmpyru.dfs.core.windows.net/resturant_json_data.json\"\n",
    "record_count = df.count()\n",
    "\n",
    "# Get current Delta version\n",
    "from delta.tables import DeltaTable\n",
    "delta_table = DeltaTable.forPath(spark, \"abfss://gold@rmpyru.dfs.core.windows.net/zomato\")\n",
    "current_version = delta_table.history().head(1)[0]['version']"
   ]
  },
  {
   "cell_type": "code",
   "execution_count": 0,
   "metadata": {
    "application/vnd.databricks.v1+cell": {
     "cellMetadata": {},
     "inputWidgets": {},
     "nuid": "000a70f1-0e53-44ff-a3ff-4dbfc843c521",
     "showTitle": false,
     "tableResultSettingsMap": {},
     "title": ""
    }
   },
   "outputs": [],
   "source": [
    "metadata_df = spark.createDataFrame([(\n",
    "    batch_id,\n",
    "    timestamp,\n",
    "    source_path,\n",
    "    record_count,\n",
    "    current_version,\n",
    "    \"STARTED\",\n",
    "    \"N\"\n",
    ")], schema=metadata_schema)\n",
    "\n",
    "metadata_df.write.format(\"delta\").mode(\"append\").save(\"abfss://gold@rmpyru.dfs.core.windows.net/zomato/Audit\")"
   ]
  },
  {
   "cell_type": "code",
   "execution_count": 0,
   "metadata": {
    "application/vnd.databricks.v1+cell": {
     "cellMetadata": {
      "byteLimit": 2048000,
      "rowLimit": 10000
     },
     "inputWidgets": {},
     "nuid": "48f6543f-6a0a-49eb-a716-982eb61fe0e8",
     "showTitle": false,
     "tableResultSettingsMap": {
      "0": {
       "dataGridStateBlob": "{\"version\":1,\"tableState\":{\"columnPinning\":{\"left\":[\"#row_number#\"],\"right\":[]},\"columnSizing\":{},\"columnVisibility\":{}},\"settings\":{\"columns\":{}},\"syncTimestamp\":1753266037666}",
       "filterBlob": null,
       "queryPlanFiltersBlob": null,
       "tableResultIndex": 0
      }
     },
     "title": ""
    }
   },
   "outputs": [],
   "source": [
    "df_zone.withColumn(\"restaurants\",explode(\"restaurants\"))\\\n",
    "    .withColumn(\"restaurant id\",col(\"restaurants.restaurant.id\"))\\\n",
    "        .withColumn(\"restaurant name\",col(\"restaurants.restaurant.name\"))\\\n",
    "            .withColumn(\"cuisines\",col(\"restaurants.restaurant.cuisines\"))\\\n",
    "                .withColumn(\"ratings\",col(\"restaurants.restaurant.user_rating.rating_text\"))\\\n",
    "                    .withColumn(\"city\",col(\"restaurants.restaurant.location.city\"))\\\n",
    "                        .withColumn(\"establishment_types\",explode_outer(col(\"restaurants.restaurant.establishment_types\")))\\\n",
    "                            .drop(\"code\",\"message\",\"results_found\",\"results_shown\",\"results_start\",\"status\")\\\n",
    "                                .filter(col(\"city\")==\"Columbus\")\\\n",
    "                                    .groupBy(\"ratings\").count().alias(\"restaurant_ratings\")\\\n",
    "                                        .display()\n",
    "                                \n",
    "                                "
   ]
  },
  {
   "cell_type": "code",
   "execution_count": 0,
   "metadata": {
    "application/vnd.databricks.v1+cell": {
     "cellMetadata": {
      "byteLimit": 2048000,
      "rowLimit": 10000
     },
     "inputWidgets": {},
     "nuid": "d450849d-d23f-496c-a07d-5cc28c3e4b56",
     "showTitle": false,
     "tableResultSettingsMap": {},
     "title": ""
    }
   },
   "outputs": [],
   "source": [
    "df_restaurant=df_zone.withColumn(\"restaurants\",explode(\"restaurants\"))\\\n",
    "    .withColumn(\"restaurant id\",col(\"restaurants.restaurant.id\"))\\\n",
    "        .withColumn(\"restaurant name\",col(\"restaurants.restaurant.name\"))\\\n",
    "            .withColumn(\"city\",col(\"restaurants.restaurant.location.city\"))\\\n",
    "                .drop(\"code\",\"message\",\"results_found\",\"results_shown\",\"results_start\",\"status\",\"restaurants\")"
   ]
  },
  {
   "cell_type": "code",
   "execution_count": 0,
   "metadata": {
    "application/vnd.databricks.v1+cell": {
     "cellMetadata": {
      "byteLimit": 2048000,
      "rowLimit": 10000
     },
     "inputWidgets": {},
     "nuid": "1963a575-6ca5-4aba-a83a-26bf3e15d925",
     "showTitle": false,
     "tableResultSettingsMap": {},
     "title": ""
    }
   },
   "outputs": [],
   "source": [
    "df_restaurant_rating=df_zone.withColumn(\"restaurants\",explode(\"restaurants\"))\\\n",
    "    .withColumn(\"restaurant id\",col(\"restaurants.restaurant.id\"))\\\n",
    "        .withColumn(\"ratings\",col(\"restaurants.restaurant.user_rating.rating_text\"))\\\n",
    "            .drop(\"code\",\"message\",\"results_found\",\"results_shown\",\"results_start\",\"status\",\"restaurants\")"
   ]
  },
  {
   "cell_type": "code",
   "execution_count": 0,
   "metadata": {
    "application/vnd.databricks.v1+cell": {
     "cellMetadata": {
      "byteLimit": 2048000,
      "rowLimit": 10000
     },
     "inputWidgets": {},
     "nuid": "289d11e2-1dd3-4457-b9f1-8aef73ac20cb",
     "showTitle": false,
     "tableResultSettingsMap": {},
     "title": ""
    }
   },
   "outputs": [],
   "source": [
    "df_restaurant_cuisines=df_zone.withColumn(\"restaurants\",explode(\"restaurants\"))\\\n",
    "    .withColumn(\"restaurant id\",col(\"restaurants.restaurant.id\"))\\\n",
    "        .withColumn(\"cuisines\",col(\"restaurants.restaurant.cuisines\"))\\\n",
    "            .drop(\"code\",\"message\",\"results_found\",\"results_shown\",\"results_start\",\"status\",\"restaurants\")"
   ]
  },
  {
   "cell_type": "code",
   "execution_count": 0,
   "metadata": {
    "application/vnd.databricks.v1+cell": {
     "cellMetadata": {
      "byteLimit": 2048000,
      "rowLimit": 10000
     },
     "inputWidgets": {},
     "nuid": "07fd9887-2fc6-4bfe-a278-4e800f1b49d2",
     "showTitle": false,
     "tableResultSettingsMap": {},
     "title": ""
    }
   },
   "outputs": [],
   "source": [
    "#df_restaurant.display()\n",
    "#df_restaurant_rating.cache()\n",
    "#df_restaurant_cuisines.display()\n",
    "\n",
    "df_final = df_restaurant.join(broadcast(df_restaurant_rating),df_restaurant[\"restaurant id\"]==df_restaurant_rating[\"restaurant id\"],how=\"left\").join(df_restaurant_cuisines,df_restaurant[\"restaurant id\"]==df_restaurant_cuisines[\"restaurant id\"],how=\"inner\").filter((col(\"restaurant name\")!=\"\") & (col(\"cuisines\")==\"\")).select(df_restaurant[\"restaurant id\"],\"restaurant name\",\"ratings\",\"cuisines\").groupBy(\"ratings\").count()\n"
   ]
  },
  {
   "cell_type": "code",
   "execution_count": 0,
   "metadata": {
    "application/vnd.databricks.v1+cell": {
     "cellMetadata": {
      "byteLimit": 2048000,
      "rowLimit": 10000
     },
     "inputWidgets": {},
     "nuid": "aca82a81-2714-4d19-8c1d-6960fd922298",
     "showTitle": false,
     "tableResultSettingsMap": {},
     "title": ""
    }
   },
   "outputs": [],
   "source": [
    "#df_final.partitionBy(\"ratings\")\n",
    "#df_final.write.mode(\"overwrite\").format(\"delta\").save(f'{json}/zomato')\n",
    "df_final.write.partitionBy(\"ratings\").mode(\"overwrite\").format(\"delta\").save(f'{json}/zomato')"
   ]
  },
  {
   "cell_type": "code",
   "execution_count": 0,
   "metadata": {
    "application/vnd.databricks.v1+cell": {
     "cellMetadata": {
      "byteLimit": 2048000,
      "implicitDf": true,
      "rowLimit": 10000
     },
     "inputWidgets": {},
     "nuid": "db1ad4a4-d047-4ef6-a07d-7ef9a9dd2416",
     "showTitle": false,
     "tableResultSettingsMap": {},
     "title": ""
    }
   },
   "outputs": [],
   "source": [
    "%sql\n",
    "select * from delta.`abfss://gold@rmpyru.dfs.core.windows.net/zomato` where ratings = 'Good'"
   ]
  },
  {
   "cell_type": "code",
   "execution_count": 0,
   "metadata": {
    "application/vnd.databricks.v1+cell": {
     "cellMetadata": {},
     "inputWidgets": {},
     "nuid": "e5f63bd0-aa3d-481c-848b-16d1eaea9178",
     "showTitle": false,
     "tableResultSettingsMap": {},
     "title": ""
    }
   },
   "outputs": [],
   "source": [
    "updated_metadata_df = spark.createDataFrame([(\n",
    "    batch_id,\n",
    "    timestamp,\n",
    "    source_path,\n",
    "    record_count,\n",
    "    current_version + 1,  # new version after write\n",
    "    \"SUCCESS\",\n",
    "    \"N\"\n",
    ")], schema=metadata_schema)\n",
    "\n",
    "updated_metadata_df.write.format(\"delta\").mode(\"append\").save(\"abfss://gold@rmpyru.dfs.core.windows.net/zomato/Audit\")"
   ]
  }
 ],
 "metadata": {
  "application/vnd.databricks.v1+notebook": {
   "computePreferences": null,
   "dashboards": [],
   "environmentMetadata": {
    "base_environment": "",
    "environment_version": "2"
   },
   "inputWidgetPreferences": null,
   "language": "python",
   "notebookMetadata": {
    "mostRecentlyExecutedCommandWithImplicitDF": {
     "commandId": 8672641831805608,
     "dataframes": [
      "_sqldf"
     ]
    },
    "pythonIndentUnit": 4
   },
   "notebookName": "RollBackUtility",
   "widgets": {}
  },
  "language_info": {
   "name": "python"
  }
 },
 "nbformat": 4,
 "nbformat_minor": 0
}
