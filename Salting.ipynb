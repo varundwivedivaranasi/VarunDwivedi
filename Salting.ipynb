{
 "cells": [
  {
   "cell_type": "code",
   "execution_count": 0,
   "metadata": {
    "application/vnd.databricks.v1+cell": {
     "cellMetadata": {
      "byteLimit": 2048000,
      "rowLimit": 10000
     },
     "inputWidgets": {},
     "nuid": "f9ee205d-1f10-44e1-9c86-2ad15ca41bc0",
     "showTitle": false,
     "tableResultSettingsMap": {},
     "title": ""
    }
   },
   "outputs": [],
   "source": [
    "from pyspark.sql import SparkSession\n",
    "from pyspark.sql.functions import lit, col\n",
    "\n",
    "spark = SparkSession.builder.getOrCreate()\n",
    "\n",
    "# Left table: 90% rows with key 'A' (skewed)\n",
    "left_data = [(f\"id_{i}\", \"A\") if i < 90 else (f\"id_{i}\", f\"K_{i}\") for i in range(10)]\n",
    "left_df = spark.createDataFrame(left_data, [\"id\", \"key\"])\n",
    "left_df.display()\n",
    "# Right table: matching keys\n",
    "right_data = [(\"A\", \"hot_value\")]\n",
    "right_df = spark.createDataFrame(right_data, [\"key\", \"value\"])\n",
    "right_df.display()"
   ]
  },
  {
   "cell_type": "code",
   "execution_count": 0,
   "metadata": {
    "application/vnd.databricks.v1+cell": {
     "cellMetadata": {
      "byteLimit": 2048000,
      "rowLimit": 10000
     },
     "inputWidgets": {},
     "nuid": "cc3a37de-5653-4624-b931-bc5fb2ce1fd5",
     "showTitle": false,
     "tableResultSettingsMap": {},
     "title": ""
    }
   },
   "outputs": [],
   "source": [
    "from pyspark.sql.functions import when, concat, floor, rand, col, lit, explode, array\n",
    "\n",
    "# Add salt only to skewed keys\n",
    "left_salted = left_df.withColumn(\n",
    "    \"salted_key\",\n",
    "    when(col(\"key\") == \"A\", concat(col(\"key\"), lit(\"_\"), floor(rand() * 5)))  # 5-way salt\n",
    "    .otherwise(col(\"key\"))\n",
    ")\n",
    "display(left_salted)\n",
    "\n",
    "# Explode right side to match salted keys\n",
    "right_exploded = right_df.filter(col(\"key\") == \"A\").withColumn(\n",
    "    \"salted_key\",\n",
    "    explode(array([lit(f\"A_{i}\") for i in range(5)]))\n",
    ")\n",
    "right_non_exploded = right_df.filter(col(\"key\") != \"A\").withColumn(\n",
    "    \"salted_key\",\n",
    "    col(\"key\")\n",
    ")\n",
    "\n",
    "right_final = right_exploded.union(right_non_exploded)\n",
    "display(right_final)"
   ]
  },
  {
   "cell_type": "code",
   "execution_count": 0,
   "metadata": {
    "application/vnd.databricks.v1+cell": {
     "cellMetadata": {
      "byteLimit": 2048000,
      "rowLimit": 10000
     },
     "inputWidgets": {},
     "nuid": "ea0e46c7-586b-4e25-bff1-849630f15e21",
     "showTitle": false,
     "tableResultSettingsMap": {
      "0": {
       "dataGridStateBlob": "{\"version\":1,\"tableState\":{\"columnPinning\":{\"left\":[\"#row_number#\"],\"right\":[]},\"columnSizing\":{},\"columnVisibility\":{}},\"settings\":{\"columns\":{}},\"syncTimestamp\":1753519817215}",
       "filterBlob": null,
       "queryPlanFiltersBlob": null,
       "tableResultIndex": 0
      }
     },
     "title": ""
    }
   },
   "outputs": [],
   "source": [
    "joined_df = left_salted.join(right_final, on=\"salted_key\", how=\"inner\")\n",
    "joined_df.display()"
   ]
  }
 ],
 "metadata": {
  "application/vnd.databricks.v1+notebook": {
   "computePreferences": null,
   "dashboards": [],
   "environmentMetadata": {
    "base_environment": "",
    "environment_version": "2"
   },
   "inputWidgetPreferences": null,
   "language": "python",
   "notebookMetadata": {
    "pythonIndentUnit": 4
   },
   "notebookName": "Salting",
   "widgets": {}
  },
  "language_info": {
   "name": "python"
  }
 },
 "nbformat": 4,
 "nbformat_minor": 0
}
