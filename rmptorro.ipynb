{
 "cells": [
  {
   "cell_type": "code",
   "execution_count": 0,
   "metadata": {
    "application/vnd.databricks.v1+cell": {
     "cellMetadata": {
      "byteLimit": 2048000,
      "rowLimit": 10000
     },
     "inputWidgets": {},
     "nuid": "1fbc3bbd-8af6-4c35-9f12-0b38cc2a6736",
     "showTitle": false,
     "tableResultSettingsMap": {},
     "title": ""
    }
   },
   "outputs": [],
   "source": [
    "from pyspark.sql.types import StructType, StructField, StringType, IntegerType\n",
    "from pyspark.sql import SparkSession\n",
    "from pyspark.sql.window import Window\n",
    "from pyspark.sql.functions import col, dense_rank\n",
    "from pyspark.sql.functions import col\n",
    "\n",
    "schema = StructType([\n",
    "    StructField(\"id\", StringType(), True),\n",
    "    StructField(\"name\", StringType(), True),\n",
    "    StructField(\"dept\", StringType(), True),\n",
    "    StructField(\"sal\", StringType(), True)\n",
    "    # Add more fields as per your CSV structure\n",
    "])\n",
    "\n",
    "df = spark.read.format(\"csv\") \\\n",
    "    .option(\"header\", \"true\") \\\n",
    "    .schema(schema) \\\n",
    "    .load(\"abfss://rmp@rmpyru.dfs.core.windows.net/rmp\")\n",
    "\n",
    "df.display()\n",
    "\n",
    "window_spec = Window.partitionBy(\"dept\").orderBy(col(\"sal\").desc())\n",
    "\n",
    "ranked_df = df.withColumn(\"rank\", dense_rank().over(window_spec))\n",
    "\n",
    "ranked_df.display()\n",
    "\n",
    "third_highest_df = ranked_df.filter(col(\"rank\") == 2).select(\"dept\", \"name\", \"sal\")\n",
    "\n",
    "third_highest_df.show()\n",
    "\n",
    "df_with_bonus = df.withColumn(\"bonus\", col(\"sal\") * 0.1)\n",
    "\n",
    "df_with_bonus.show()\n",
    "\n",
    "df.groupBy(\"dept\").avg(\"sal\").show()"
   ]
  }
 ],
 "metadata": {
  "application/vnd.databricks.v1+notebook": {
   "computePreferences": null,
   "dashboards": [],
   "environmentMetadata": {
    "base_environment": "",
    "environment_version": "2"
   },
   "inputWidgetPreferences": null,
   "language": "python",
   "notebookMetadata": {
    "pythonIndentUnit": 4
   },
   "notebookName": "rmptorro",
   "widgets": {}
  },
  "language_info": {
   "name": "python"
  }
 },
 "nbformat": 4,
 "nbformat_minor": 0
}
