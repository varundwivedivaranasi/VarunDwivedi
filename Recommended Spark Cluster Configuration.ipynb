{
 "cells": [
  {
   "cell_type": "code",
   "execution_count": 0,
   "metadata": {
    "application/vnd.databricks.v1+cell": {
     "cellMetadata": {
      "byteLimit": 2048000,
      "rowLimit": 10000
     },
     "inputWidgets": {},
     "nuid": "6a5ae6d5-8558-4245-a95e-f593421ba7c1",
     "showTitle": false,
     "tableResultSettingsMap": {},
     "title": ""
    }
   },
   "outputs": [],
   "source": [
    "import math\n",
    "\n",
    "def calculate_executor_memory(node_memory_gb, executors_per_node, overhead_ratio=0.1, min_overhead_gb=0.384):\n",
    "    mem_per_executor = node_memory_gb / executors_per_node\n",
    "    overhead = max(min_overhead_gb, overhead_ratio * mem_per_executor)\n",
    "    executor_memory_gb = mem_per_executor - overhead\n",
    "    return round(executor_memory_gb, 2), round(overhead, 2)\n",
    "\n",
    "def recommend_cluster_config(data_size_gb, partition_size_mb=128, node_memory_gb=16, cores_per_node=16, cores_per_executor=4, partitions_per_executor=4):\n",
    "    # Step 1: Calculate number of partitions required\n",
    "    total_partitions = math.ceil(data_size_gb * 1024 / partition_size_mb)\n",
    "\n",
    "    # Step 2: Calculate total executors needed\n",
    "    total_executors_needed = math.ceil(total_partitions / partitions_per_executor)\n",
    "\n",
    "    # Step 3: Calculate executors per node\n",
    "    executors_per_node = math.floor(cores_per_node / cores_per_executor)\n",
    "    total_nodes_required = math.ceil(total_executors_needed / executors_per_node)\n",
    "\n",
    "    # Step 4: Compute memory allocation per executor\n",
    "    executor_memory_gb, overhead_gb = calculate_executor_memory(node_memory_gb, executors_per_node)\n",
    "\n",
    "    # Output summary\n",
    "    print(f\"Recommended Spark Cluster Configuration for {data_size_gb} GB of Input Data\")\n",
    "    print(\"=\" * 70)\n",
    "    print(f\"Ideal Partition Size (MB)                : {partition_size_mb}\")\n",
    "    print(f\"Total Partitions                        : {total_partitions}\")\n",
    "    print(f\"Partitions per Executor                 : {partitions_per_executor}\")\n",
    "    print(f\"Total Executors Required                : {total_executors_needed}\")\n",
    "    print(f\"Cores per Executor                      : {cores_per_executor}\")\n",
    "    print(f\"Executors per Node                      : {executors_per_node}\")\n",
    "    print(f\"Total Nodes Required                    : {total_nodes_required}\")\n",
    "    print(f\"Node Memory (GB)                        : {node_memory_gb}\")\n",
    "    print(f\"Cores per Node                          : {cores_per_node}\")\n",
    "    print(f\"Executor Memory (usable)                : {executor_memory_gb} GB\")\n",
    "    print(f\"Memory Overhead per Executor            : {overhead_gb} GB\")\n",
    "\n",
    "    # Heuristic guidance\n",
    "    if executor_memory_gb < 4:\n",
    "        print(\"⚠️ Warning: Executor memory is too low. Consider increasing node memory.\")\n",
    "    elif executor_memory_gb > 8:\n",
    "        print(\"💡 Suggestion: You may be over-allocating memory. Tune down to reduce cost.\")\n",
    "\n",
    "# Example usage\n",
    "recommend_cluster_config(data_size_gb=500)"
   ]
  }
 ],
 "metadata": {
  "application/vnd.databricks.v1+notebook": {
   "computePreferences": {
    "hardware": {
     "accelerator": null,
     "gpuPoolId": null,
     "memory": null
    }
   },
   "dashboards": [],
   "environmentMetadata": {
    "base_environment": "",
    "environment_version": "2"
   },
   "inputWidgetPreferences": null,
   "language": "python",
   "notebookMetadata": {
    "pythonIndentUnit": 4
   },
   "notebookName": "Recommended Spark Cluster Configuration",
   "widgets": {}
  },
  "language_info": {
   "name": "python"
  }
 },
 "nbformat": 4,
 "nbformat_minor": 0
}
