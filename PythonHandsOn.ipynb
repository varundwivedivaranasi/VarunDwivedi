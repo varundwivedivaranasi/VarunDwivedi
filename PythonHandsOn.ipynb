{
 "cells": [
  {
   "cell_type": "code",
   "execution_count": 0,
   "metadata": {
    "application/vnd.databricks.v1+cell": {
     "cellMetadata": {
      "byteLimit": 2048000,
      "rowLimit": 10000
     },
     "inputWidgets": {},
     "nuid": "d2b80bb8-8316-4b6c-8c13-2e9b51804bca",
     "showTitle": false,
     "tableResultSettingsMap": {},
     "title": ""
    }
   },
   "outputs": [],
   "source": [
    "reversed_str = \"hellovarunkumardwivedi\"[::5]\n",
    "print(reversed_str)"
   ]
  },
  {
   "cell_type": "code",
   "execution_count": 0,
   "metadata": {
    "application/vnd.databricks.v1+cell": {
     "cellMetadata": {
      "byteLimit": 2048000,
      "rowLimit": 10000
     },
     "inputWidgets": {},
     "nuid": "d45d9ce0-86da-4b76-ad8a-483a72313847",
     "showTitle": false,
     "tableResultSettingsMap": {},
     "title": ""
    }
   },
   "outputs": [],
   "source": [
    "original = \"varun\"\n",
    "reversed_str = \"\"\n",
    "\n",
    "for char in original:\n",
    "    reversed_str = char + reversed_str\n",
    "\n",
    "print(reversed_str)"
   ]
  },
  {
   "cell_type": "markdown",
   "metadata": {
    "application/vnd.databricks.v1+cell": {
     "cellMetadata": {},
     "inputWidgets": {},
     "nuid": "bd511cc4-8dca-4e29-87b6-717467f3615d",
     "showTitle": false,
     "tableResultSettingsMap": {},
     "title": ""
    }
   },
   "source": [
    "Decorators in Python are like enhancers for functions—they let you wrap extra functionality around existing code without modifying the original function itself. Think of them as wrappers that allow you to inject behavior dynamically. 🎁\n",
    "\n",
    "🔧 What Does a Decorator Do?\n",
    "- Adds behavior before or after a function runs\n",
    "- Keeps your code clean and reusable\n",
    "- Allows you to apply the same logic across multiple functions\n"
   ]
  },
  {
   "cell_type": "markdown",
   "metadata": {
    "application/vnd.databricks.v1+cell": {
     "cellMetadata": {},
     "inputWidgets": {},
     "nuid": "8b0d4531-4534-4d92-b06f-bde105fb8c43",
     "showTitle": false,
     "tableResultSettingsMap": {},
     "title": ""
    }
   },
   "source": [
    "Why Use Decorators?\n",
    "- Logging: Track when functions are called.\n",
    "- Authorization: Restrict access based on user roles.\n",
    "- Validation: Check inputs before running logic.\n",
    "- Performance Monitoring: Measure execution time.\n"
   ]
  },
  {
   "cell_type": "code",
   "execution_count": 0,
   "metadata": {
    "application/vnd.databricks.v1+cell": {
     "cellMetadata": {
      "byteLimit": 2048000,
      "rowLimit": 10000
     },
     "inputWidgets": {},
     "nuid": "f7ec1560-8a5d-4d63-b461-c7e4d3cc1812",
     "showTitle": false,
     "tableResultSettingsMap": {},
     "title": ""
    }
   },
   "outputs": [],
   "source": [
    "def greet_decorator(func):\n",
    "    def wrapper():\n",
    "        print(\"Hello there!\")\n",
    "        func()\n",
    "        print(\"Goodbye!\")\n",
    "    return wrapper\n",
    "\n",
    "@greet_decorator\n",
    "def say_name():\n",
    "    print(\"My name is Varun.\")\n",
    "\n",
    "say_name()"
   ]
  }
 ],
 "metadata": {
  "application/vnd.databricks.v1+notebook": {
   "computePreferences": {
    "hardware": {
     "accelerator": null,
     "gpuPoolId": null,
     "memory": null
    }
   },
   "dashboards": [],
   "environmentMetadata": {
    "base_environment": "",
    "environment_version": "2"
   },
   "inputWidgetPreferences": null,
   "language": "python",
   "notebookMetadata": {
    "pythonIndentUnit": 4
   },
   "notebookName": "PythonHandsOn",
   "widgets": {}
  },
  "language_info": {
   "name": "python"
  }
 },
 "nbformat": 4,
 "nbformat_minor": 0
}
